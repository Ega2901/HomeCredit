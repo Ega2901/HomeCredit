{
 "cells": [
  {
   "cell_type": "code",
   "id": "initial_id",
   "metadata": {
    "collapsed": true,
    "jupyter": {
     "outputs_hidden": true,
     "is_executing": true
    }
   },
   "source": [
    "import polars as pl\n",
    "import pandas as pd\n",
    "import numpy as np"
   ],
   "outputs": [],
   "execution_count": null
  },
  {
   "metadata": {
    "ExecuteTime": {
     "end_time": "2024-04-13T00:11:01.894473Z",
     "start_time": "2024-04-13T00:11:01.885866Z"
    }
   },
   "cell_type": "code",
   "source": "",
   "id": "f8fa9484fecea8cb",
   "outputs": [
    {
     "data": {
      "text/plain": [
       "<module 'polars' from '/Users/egortuzarov/Library/Caches/pypoetry/virtualenvs/homecredit-_roIwX6z-py3.11/lib/python3.11/site-packages/polars/__init__.py'>"
      ]
     },
     "execution_count": 5,
     "metadata": {},
     "output_type": "execute_result"
    }
   ],
   "execution_count": 5
  },
  {
   "metadata": {
    "ExecuteTime": {
     "end_time": "2024-04-13T00:10:08.595791Z",
     "start_time": "2024-04-13T00:10:08.592608Z"
    }
   },
   "cell_type": "code",
   "source": "",
   "id": "33ace840c3de690e",
   "outputs": [],
   "execution_count": 4
  },
  {
   "metadata": {},
   "cell_type": "code",
   "outputs": [],
   "execution_count": null,
   "source": "",
   "id": "96484fe401543e36"
  }
 ],
 "metadata": {
  "kernelspec": {
   "display_name": "Python 3 (ipykernel)",
   "language": "python",
   "name": "python3"
  },
  "language_info": {
   "codemirror_mode": {
    "name": "ipython",
    "version": 3
   },
   "file_extension": ".py",
   "mimetype": "text/x-python",
   "name": "python",
   "nbconvert_exporter": "python",
   "pygments_lexer": "ipython3",
   "version": "3.11.8"
  }
 },
 "nbformat": 4,
 "nbformat_minor": 5
}
